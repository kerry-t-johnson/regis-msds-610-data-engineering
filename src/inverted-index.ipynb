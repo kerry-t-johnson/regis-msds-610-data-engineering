{
 "cells": [
  {
   "cell_type": "markdown",
   "metadata": {},
   "source": [
    "# Prerequisites"
   ]
  },
  {
   "cell_type": "code",
   "execution_count": 1,
   "metadata": {},
   "outputs": [
    {
     "name": "stderr",
     "output_type": "stream",
     "text": [
      "21/10/09 17:15:32 WARN NativeCodeLoader: Unable to load native-hadoop library for your platform... using builtin-java classes where applicable\n",
      "Using Spark's default log4j profile: org/apache/spark/log4j-defaults.properties\n",
      "Setting default log level to \"WARN\".\n",
      "To adjust logging level use sc.setLogLevel(newLevel). For SparkR, use setLogLevel(newLevel).\n"
     ]
    }
   ],
   "source": [
    "import pyspark\n",
    "import stackoverflow\n",
    "import logging\n",
    "\n",
    "\n",
    "# Set up logging ... DEBUG for my code, WARNING for libraries\n",
    "logging.getLogger(\"py4j\").setLevel(logging.WARNING)\n",
    "logging.basicConfig(format='%(asctime)s - %(levelname)-6s - %(name)10s - %(message)s',\n",
    "                    datefmt='%Y-%m-%d %H:%M:%S',\n",
    "                    level=logging.DEBUG)\n",
    "\n",
    "LOGGER = logging.getLogger('my-spark')\n",
    "\n",
    "# Connect a Spark session to the spark-master node\n",
    "sc = pyspark.sql.SparkSession.builder.appName(\"InvertedIndex\") \\\n",
    "                                     .master('spark://spark-master:7077') \\\n",
    "                                     .getOrCreate()\n",
    "\n",
    "# Load the Stack Exchange Data Explorer CSV file from Hadoop:\n",
    "contents = sc.read.csv('hdfs://hadoop:9000/final-project/QueryResults.csv',\n",
    "                       header=True)\n",
    "\n",
    "# As in other labs, I've isolated some code to other Python modules\n",
    "# The 'stackoverflow' module has knowledge of (e.g.) tag formats and other\n",
    "# useful utilities\n",
    "sc.sparkContext.addPyFile('./stackoverflow.py')"
   ]
  },
  {
   "cell_type": "markdown",
   "metadata": {},
   "source": [
    "# Inverse Index Implementation"
   ]
  },
  {
   "cell_type": "code",
   "execution_count": 2,
   "metadata": {},
   "outputs": [
    {
     "name": "stderr",
     "output_type": "stream",
     "text": []
    },
    {
     "name": "stdout",
     "output_type": "stream",
     "text": [
      "Tag 'record' is associated with 3 Posts\n",
      "Tag 'asp.net-mvc' is associated with 174 Posts\n",
      "Tag 'android' is associated with 1921 Posts\n",
      "Tag 'c++' is associated with 1279 Posts\n",
      "Tag 'winapi' is associated with 67 Posts\n"
     ]
    },
    {
     "name": "stderr",
     "output_type": "stream",
     "text": []
    }
   ],
   "source": [
    "# The end result will be something like\n",
    "#    [(tag1, Post ID1), (tag2, Post ID1), (tag3, Post ID1),\n",
    "#     (tag1, Post ID2), (tagX, Post ID2), (tagY, Post IDn)..., ]\n",
    "mapped = contents.rdd.flatMap(lambda post: [(tag, post.Id) for tag in stackoverflow.extractTags(post.Tags)])\n",
    "\n",
    "# groupByKey: For each Stack Overflow Tag, create an iterable of Post IDs\n",
    "# mapValues: Convert the iterable to a Python 'list'\n",
    "reduced = mapped.groupByKey().mapValues(list)\n",
    "\n",
    "# Print a sample of the results as a sanity check\n",
    "# take: Returns a list of tuples\n",
    "#       Tag is the first element of the tuple\n",
    "#       the list of associated Post IDs is the second element of the tuple\n",
    "for tag, posts in reduced.take(5):\n",
    "    print(\"Tag '{tag}' is associated with {count} Posts\".format(tag = tag,\n",
    "                                                                count = len(posts)))"
   ]
  },
  {
   "cell_type": "markdown",
   "metadata": {},
   "source": [
    "# Verification of Results"
   ]
  },
  {
   "cell_type": "code",
   "execution_count": 3,
   "metadata": {},
   "outputs": [
    {
     "name": "stderr",
     "output_type": "stream",
     "text": [
      "2021-10-09 17:17:05 - INFO   -   my-spark - Post 65728407 (Can't build APK using Qt...) has tag 'qt-creator' \u001b[32m✓\u001b[0m\n",
      "2021-10-09 17:17:10 - INFO   -   my-spark - Post 65881568 (how it works QMessageBox) has tag 'qt-creator' \u001b[32m✓\u001b[0m\n",
      "2021-10-09 17:17:14 - INFO   -   my-spark - Post 65576972 (Qt Creator exclude...) has tag 'qt-creator' \u001b[32m✓\u001b[0m\n",
      "2021-10-09 17:17:17 - INFO   -   my-spark - Post 65578658 (How to use valgrind...) has tag 'qt-creator' \u001b[32m✓\u001b[0m\n",
      "2021-10-09 17:17:21 - INFO   -   my-spark - Post 65590944 (Qt Creator FakeVim using...) has tag 'qt-creator' \u001b[32m✓\u001b[0m\n",
      "2021-10-09 17:17:25 - INFO   -   my-spark - Post 65774060 (Build a library in C++...) has tag 'qt-creator' \u001b[32m✓\u001b[0m\n",
      "2021-10-09 17:17:28 - INFO   -   my-spark - Post 65777697 (Updating QLineSeries in...) has tag 'qt-creator' \u001b[32m✓\u001b[0m\n",
      "2021-10-09 17:17:32 - INFO   -   my-spark - Post 65781403 (PyQt5 Designer - Wrong...) has tag 'qt-creator' \u001b[32m✓\u001b[0m\n"
     ]
    }
   ],
   "source": [
    "import termcolor\n",
    "import textwrap\n",
    "\n",
    "SUCCESS_CHECK = termcolor.colored('\\N{check mark}', 'green')\n",
    "FAILED_X = termcolor.colored('\\N{ballot x}', 'red')\n",
    "\n",
    "# qt-creator is a good example to verify the results\n",
    "expected_tag = 'qt-creator'\n",
    "\n",
    "# Retrieve the inverse index for 'qt-creator'\n",
    "# RDD.lookup will return a list of items that match the given key\n",
    "#            (we know that there is only one entry for each key (tag), so\n",
    "#            we grab the first element, which is the list of post IDs\n",
    "#            for the qt-creator tag)\n",
    "qt_creator_posts = reduced.lookup(expected_tag)[0]\n",
    "\n",
    "# Create an RDD that is indexed by post ID, which will make it much\n",
    "# easier to perform our test\n",
    "indexed_contents = contents.rdd.map(lambda post: (post.Id, {'title': post.Title, 'tags': post.Tags}))\n",
    "\n",
    "# For each post in the inverse index list, retrieve its tags and verify\n",
    "# that qt-creator is present -- this spot-checks that the inverse index\n",
    "# is correct\n",
    "for p in qt_creator_posts:\n",
    "    post = indexed_contents.lookup(p)[0]\n",
    "    title = textwrap.shorten(post['title'], width=30, placeholder='...')\n",
    "    tag_is_present = '<{tag}>'.format(tag=expected_tag) in post['tags']\n",
    "    LOGGER.info(\"Post {id} ({title}) has tag '{tag}' {success}\".format(id=p,\n",
    "                                                                       title=title,\n",
    "                                                                       tag=expected_tag,\n",
    "                                                                       success=SUCCESS_CHECK if tag_is_present else FAILED_X))"
   ]
  },
  {
   "cell_type": "markdown",
   "metadata": {},
   "source": [
    "# Save the Results"
   ]
  },
  {
   "cell_type": "code",
   "execution_count": 4,
   "metadata": {},
   "outputs": [
    {
     "name": "stderr",
     "output_type": "stream",
     "text": []
    }
   ],
   "source": [
    "reduced.saveAsTextFile('hdfs://hadoop:9000/final-project/inverted-index.txt')"
   ]
  },
  {
   "cell_type": "code",
   "execution_count": null,
   "metadata": {},
   "outputs": [],
   "source": []
  }
 ],
 "metadata": {
  "kernelspec": {
   "display_name": "Python 3 (ipykernel)",
   "language": "python",
   "name": "python3"
  },
  "language_info": {
   "codemirror_mode": {
    "name": "ipython",
    "version": 3
   },
   "file_extension": ".py",
   "mimetype": "text/x-python",
   "name": "python",
   "nbconvert_exporter": "python",
   "pygments_lexer": "ipython3",
   "version": "3.9.6"
  },
  "orig_nbformat": 4
 },
 "nbformat": 4,
 "nbformat_minor": 2
}
